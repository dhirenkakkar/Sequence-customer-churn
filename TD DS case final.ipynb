{
 "cells": [
  {
   "cell_type": "markdown",
   "metadata": {},
   "source": [
    "# TD DS co-op case study\n",
    "### Dhiren Kakkar"
   ]
  },
  {
   "cell_type": "markdown",
   "metadata": {},
   "source": [
    " "
   ]
  },
  {
   "cell_type": "code",
   "execution_count": 1,
   "metadata": {},
   "outputs": [],
   "source": [
    "import pandas as pd\n",
    "import numpy as np\n",
    "import seaborn as sns\n",
    "import matplotlib.pyplot as plt"
   ]
  },
  {
   "cell_type": "code",
   "execution_count": 2,
   "metadata": {},
   "outputs": [],
   "source": [
    "train = pd.read_csv('train.csv')\n",
    "test = pd.read_csv('test.csv')"
   ]
  },
  {
   "cell_type": "code",
   "execution_count": 3,
   "metadata": {},
   "outputs": [
    {
     "name": "stdout",
     "output_type": "stream",
     "text": [
      "(391749, 5)\n",
      "(20000, 5)\n"
     ]
    },
    {
     "data": {
      "text/html": [
       "<div>\n",
       "<style scoped>\n",
       "    .dataframe tbody tr th:only-of-type {\n",
       "        vertical-align: middle;\n",
       "    }\n",
       "\n",
       "    .dataframe tbody tr th {\n",
       "        vertical-align: top;\n",
       "    }\n",
       "\n",
       "    .dataframe thead th {\n",
       "        text-align: right;\n",
       "    }\n",
       "</style>\n",
       "<table border=\"1\" class=\"dataframe\">\n",
       "  <thead>\n",
       "    <tr style=\"text-align: right;\">\n",
       "      <th></th>\n",
       "      <th>ID</th>\n",
       "      <th>USERID</th>\n",
       "      <th>EVENTID</th>\n",
       "      <th>TIMESTAMP</th>\n",
       "      <th>LABEL</th>\n",
       "    </tr>\n",
       "  </thead>\n",
       "  <tbody>\n",
       "    <tr>\n",
       "      <th>391744</th>\n",
       "      <td>391744</td>\n",
       "      <td>1142</td>\n",
       "      <td>90</td>\n",
       "      <td>2497251</td>\n",
       "      <td>0</td>\n",
       "    </tr>\n",
       "    <tr>\n",
       "      <th>391745</th>\n",
       "      <td>391745</td>\n",
       "      <td>1142</td>\n",
       "      <td>70</td>\n",
       "      <td>2497253</td>\n",
       "      <td>0</td>\n",
       "    </tr>\n",
       "    <tr>\n",
       "      <th>391746</th>\n",
       "      <td>391746</td>\n",
       "      <td>2816</td>\n",
       "      <td>20</td>\n",
       "      <td>2497253</td>\n",
       "      <td>0</td>\n",
       "    </tr>\n",
       "    <tr>\n",
       "      <th>391747</th>\n",
       "      <td>391747</td>\n",
       "      <td>1142</td>\n",
       "      <td>73</td>\n",
       "      <td>2497254</td>\n",
       "      <td>0</td>\n",
       "    </tr>\n",
       "    <tr>\n",
       "      <th>391748</th>\n",
       "      <td>391748</td>\n",
       "      <td>5059</td>\n",
       "      <td>25</td>\n",
       "      <td>2497257</td>\n",
       "      <td>0</td>\n",
       "    </tr>\n",
       "  </tbody>\n",
       "</table>\n",
       "</div>"
      ],
      "text/plain": [
       "            ID  USERID  EVENTID  TIMESTAMP  LABEL\n",
       "391744  391744    1142       90    2497251      0\n",
       "391745  391745    1142       70    2497253      0\n",
       "391746  391746    2816       20    2497253      0\n",
       "391747  391747    1142       73    2497254      0\n",
       "391748  391748    5059       25    2497257      0"
      ]
     },
     "execution_count": 3,
     "metadata": {},
     "output_type": "execute_result"
    }
   ],
   "source": [
    "print(train.shape)\n",
    "print(test.shape)\n",
    "train.tail()"
   ]
  },
  {
   "cell_type": "code",
   "execution_count": 4,
   "metadata": {},
   "outputs": [
    {
     "data": {
      "text/html": [
       "<div>\n",
       "<style scoped>\n",
       "    .dataframe tbody tr th:only-of-type {\n",
       "        vertical-align: middle;\n",
       "    }\n",
       "\n",
       "    .dataframe tbody tr th {\n",
       "        vertical-align: top;\n",
       "    }\n",
       "\n",
       "    .dataframe thead th {\n",
       "        text-align: right;\n",
       "    }\n",
       "</style>\n",
       "<table border=\"1\" class=\"dataframe\">\n",
       "  <thead>\n",
       "    <tr style=\"text-align: right;\">\n",
       "      <th></th>\n",
       "      <th>ID</th>\n",
       "      <th>USERID</th>\n",
       "      <th>EVENTID</th>\n",
       "      <th>TIMESTAMP</th>\n",
       "      <th>LABEL</th>\n",
       "    </tr>\n",
       "  </thead>\n",
       "  <tbody>\n",
       "    <tr>\n",
       "      <th>0</th>\n",
       "      <td>391749</td>\n",
       "      <td>6751</td>\n",
       "      <td>8</td>\n",
       "      <td>2497257</td>\n",
       "      <td>NaN</td>\n",
       "    </tr>\n",
       "    <tr>\n",
       "      <th>1</th>\n",
       "      <td>391750</td>\n",
       "      <td>5059</td>\n",
       "      <td>26</td>\n",
       "      <td>2497260</td>\n",
       "      <td>NaN</td>\n",
       "    </tr>\n",
       "    <tr>\n",
       "      <th>2</th>\n",
       "      <td>391752</td>\n",
       "      <td>2816</td>\n",
       "      <td>49</td>\n",
       "      <td>2497261</td>\n",
       "      <td>NaN</td>\n",
       "    </tr>\n",
       "    <tr>\n",
       "      <th>3</th>\n",
       "      <td>391752</td>\n",
       "      <td>2816</td>\n",
       "      <td>49</td>\n",
       "      <td>2497261</td>\n",
       "      <td>NaN</td>\n",
       "    </tr>\n",
       "    <tr>\n",
       "      <th>4</th>\n",
       "      <td>391753</td>\n",
       "      <td>6751</td>\n",
       "      <td>7</td>\n",
       "      <td>2497261</td>\n",
       "      <td>NaN</td>\n",
       "    </tr>\n",
       "    <tr>\n",
       "      <th>5</th>\n",
       "      <td>391754</td>\n",
       "      <td>5059</td>\n",
       "      <td>28</td>\n",
       "      <td>2497262</td>\n",
       "      <td>NaN</td>\n",
       "    </tr>\n",
       "    <tr>\n",
       "      <th>6</th>\n",
       "      <td>391755</td>\n",
       "      <td>6669</td>\n",
       "      <td>72</td>\n",
       "      <td>2497263</td>\n",
       "      <td>NaN</td>\n",
       "    </tr>\n",
       "    <tr>\n",
       "      <th>7</th>\n",
       "      <td>391756</td>\n",
       "      <td>7001</td>\n",
       "      <td>80</td>\n",
       "      <td>2497264</td>\n",
       "      <td>NaN</td>\n",
       "    </tr>\n",
       "    <tr>\n",
       "      <th>8</th>\n",
       "      <td>391757</td>\n",
       "      <td>6669</td>\n",
       "      <td>73</td>\n",
       "      <td>2497264</td>\n",
       "      <td>NaN</td>\n",
       "    </tr>\n",
       "    <tr>\n",
       "      <th>9</th>\n",
       "      <td>391758</td>\n",
       "      <td>6751</td>\n",
       "      <td>8</td>\n",
       "      <td>2497264</td>\n",
       "      <td>NaN</td>\n",
       "    </tr>\n",
       "  </tbody>\n",
       "</table>\n",
       "</div>"
      ],
      "text/plain": [
       "       ID  USERID  EVENTID  TIMESTAMP  LABEL\n",
       "0  391749    6751        8    2497257    NaN\n",
       "1  391750    5059       26    2497260    NaN\n",
       "2  391752    2816       49    2497261    NaN\n",
       "3  391752    2816       49    2497261    NaN\n",
       "4  391753    6751        7    2497261    NaN\n",
       "5  391754    5059       28    2497262    NaN\n",
       "6  391755    6669       72    2497263    NaN\n",
       "7  391756    7001       80    2497264    NaN\n",
       "8  391757    6669       73    2497264    NaN\n",
       "9  391758    6751        8    2497264    NaN"
      ]
     },
     "execution_count": 4,
     "metadata": {},
     "output_type": "execute_result"
    }
   ],
   "source": [
    "test.head(10)"
   ]
  },
  {
   "cell_type": "markdown",
   "metadata": {},
   "source": [
    "- The test set IDs follows the last observation ID of the training set. So expanding/rolling window transformations are possible without dropping/filling any test set data."
   ]
  },
  {
   "cell_type": "code",
   "execution_count": 5,
   "metadata": {},
   "outputs": [
    {
     "data": {
      "text/plain": [
       "ID           int64\n",
       "USERID       int64\n",
       "EVENTID      int64\n",
       "TIMESTAMP    int64\n",
       "LABEL        int64\n",
       "dtype: object"
      ]
     },
     "execution_count": 5,
     "metadata": {},
     "output_type": "execute_result"
    }
   ],
   "source": [
    "train.dtypes"
   ]
  },
  {
   "cell_type": "markdown",
   "metadata": {},
   "source": [
    " "
   ]
  },
  {
   "cell_type": "markdown",
   "metadata": {},
   "source": [
    "### Exploratory analysis"
   ]
  },
  {
   "cell_type": "code",
   "execution_count": 6,
   "metadata": {},
   "outputs": [
    {
     "name": "stdout",
     "output_type": "stream",
     "text": [
      "Unique users: 7002\n",
      "Unique events: 97\n",
      "Unique timestamps: 330366\n",
      "\n",
      "Missing data:\n",
      "ID           0\n",
      "USERID       0\n",
      "EVENTID      0\n",
      "TIMESTAMP    0\n",
      "LABEL        0\n",
      "dtype: int64\n"
     ]
    }
   ],
   "source": [
    "#unique and missing values\n",
    "print('Unique users: ' + str(train['USERID'].nunique()))\n",
    "print('Unique events: ' + str(train['EVENTID'].nunique()))\n",
    "print('Unique timestamps: ' + str(train['TIMESTAMP'].nunique()))\n",
    "print('\\nMissing data:\\n' + str(train.isnull().sum()))"
   ]
  },
  {
   "cell_type": "code",
   "execution_count": 7,
   "metadata": {},
   "outputs": [
    {
     "data": {
      "text/plain": [
       "0    387850\n",
       "1      3899\n",
       "Name: LABEL, dtype: int64"
      ]
     },
     "execution_count": 7,
     "metadata": {},
     "output_type": "execute_result"
    }
   ],
   "source": [
    "#label distribution\n",
    "train['LABEL'].value_counts()"
   ]
  },
  {
   "cell_type": "markdown",
   "metadata": {},
   "source": [
    "Labels are highly imbalanced. Oversampling label=1 or undersampling label=0 could be good options, but they may lead to overfitting or reducing data respectively. So I'll evaluate models with their **precision/recall**."
   ]
  },
  {
   "cell_type": "code",
   "execution_count": 8,
   "metadata": {},
   "outputs": [
    {
     "name": "stderr",
     "output_type": "stream",
     "text": [
      "/anaconda3/lib/python3.7/site-packages/scipy/stats/stats.py:1713: FutureWarning: Using a non-tuple sequence for multidimensional indexing is deprecated; use `arr[tuple(seq)]` instead of `arr[seq]`. In the future this will be interpreted as an array index, `arr[np.array(seq)]`, which will result either in an error or a different result.\n",
      "  return np.add.reduce(sorted[indexer] * weights, axis=axis) / sumval\n"
     ]
    },
    {
     "data": {
      "text/plain": [
       "<matplotlib.axes._subplots.AxesSubplot at 0x1a1d6d7780>"
      ]
     },
     "execution_count": 8,
     "metadata": {},
     "output_type": "execute_result"
    },
    {
     "data": {
      "image/png": "[encoded data removed]",
      "text/plain": [
       "<Figure size 432x288 with 1 Axes>"
      ]
     },
     "metadata": {
      "needs_background": "light"
     },
     "output_type": "display_data"
    }
   ],
   "source": [
    "#distribution of timestamps at churn (label=1)\n",
    "sns.distplot(train.loc[train['LABEL']==1].TIMESTAMP)"
   ]
  },
  {
   "cell_type": "markdown",
   "metadata": {},
   "source": [
    "- Slight deviations from uniform distribution for timestamps of churn events (label=1)"
   ]
  },
  {
   "cell_type": "code",
   "execution_count": 9,
   "metadata": {},
   "outputs": [
    {
     "name": "stdout",
     "output_type": "stream",
     "text": [
      "0     NaN\n",
      "1     6.0\n",
      "2    35.0\n",
      "3     8.0\n",
      "4     2.0\n",
      "5     4.0\n",
      "6     4.0\n",
      "7     3.0\n",
      "8     3.0\n",
      "9    48.0\n",
      "Name: TIMESTAMP, dtype: float64\n"
     ]
    }
   ],
   "source": [
    "print(train['TIMESTAMP'].diff().head(10))"
   ]
  },
  {
   "cell_type": "markdown",
   "metadata": {},
   "source": [
    "Since the **data points occur at uneven intervals** (both globally and for each user), time series modelling approaches like ARIMA would not apply well since they assume evenly spaced series. Instead, my approach would be to **embed both user and sequence data within features** to capture both global and local trends of user interaction leading to churn."
   ]
  },
  {
   "cell_type": "code",
   "execution_count": 10,
   "metadata": {},
   "outputs": [
    {
     "data": {
      "text/html": [
       "<div>\n",
       "<style scoped>\n",
       "    .dataframe tbody tr th:only-of-type {\n",
       "        vertical-align: middle;\n",
       "    }\n",
       "\n",
       "    .dataframe tbody tr th {\n",
       "        vertical-align: top;\n",
       "    }\n",
       "\n",
       "    .dataframe thead th {\n",
       "        text-align: right;\n",
       "    }\n",
       "</style>\n",
       "<table border=\"1\" class=\"dataframe\">\n",
       "  <thead>\n",
       "    <tr style=\"text-align: right;\">\n",
       "      <th>EVENTID</th>\n",
       "      <th>0</th>\n",
       "      <th>1</th>\n",
       "      <th>2</th>\n",
       "      <th>3</th>\n",
       "      <th>4</th>\n",
       "      <th>5</th>\n",
       "      <th>6</th>\n",
       "      <th>7</th>\n",
       "      <th>8</th>\n",
       "      <th>9</th>\n",
       "      <th>...</th>\n",
       "      <th>87</th>\n",
       "      <th>88</th>\n",
       "      <th>89</th>\n",
       "      <th>90</th>\n",
       "      <th>91</th>\n",
       "      <th>92</th>\n",
       "      <th>93</th>\n",
       "      <th>94</th>\n",
       "      <th>95</th>\n",
       "      <th>96</th>\n",
       "    </tr>\n",
       "  </thead>\n",
       "  <tbody>\n",
       "    <tr>\n",
       "      <th>EVENTID</th>\n",
       "      <td>1577</td>\n",
       "      <td>12828</td>\n",
       "      <td>4705</td>\n",
       "      <td>14135</td>\n",
       "      <td>11526</td>\n",
       "      <td>11132</td>\n",
       "      <td>7695</td>\n",
       "      <td>15349</td>\n",
       "      <td>19244</td>\n",
       "      <td>14366</td>\n",
       "      <td>...</td>\n",
       "      <td>30</td>\n",
       "      <td>29</td>\n",
       "      <td>15</td>\n",
       "      <td>14</td>\n",
       "      <td>21</td>\n",
       "      <td>9</td>\n",
       "      <td>11</td>\n",
       "      <td>6</td>\n",
       "      <td>13</td>\n",
       "      <td>15</td>\n",
       "    </tr>\n",
       "  </tbody>\n",
       "</table>\n",
       "<p>1 rows × 97 columns</p>\n",
       "</div>"
      ],
      "text/plain": [
       "EVENTID    0      1     2      3      4      5     6      7      8      9   \\\n",
       "EVENTID  1577  12828  4705  14135  11526  11132  7695  15349  19244  14366   \n",
       "\n",
       "EVENTID  ...  87  88  89  90  91  92  93  94  95  96  \n",
       "EVENTID  ...  30  29  15  14  21   9  11   6  13  15  \n",
       "\n",
       "[1 rows x 97 columns]"
      ]
     },
     "execution_count": 10,
     "metadata": {},
     "output_type": "execute_result"
    }
   ],
   "source": [
    "#frequency of an event's occurance\n",
    "i = len(train) -1 \n",
    "train[train['ID'] < i].groupby('EVENTID').agg({'EVENTID':'count'}).T"
   ]
  },
  {
   "cell_type": "code",
   "execution_count": 11,
   "metadata": {},
   "outputs": [
    {
     "data": {
      "image/png": "[encoded data removed]",
      "text/plain": [
       "<Figure size 432x288 with 1 Axes>"
      ]
     },
     "metadata": {
      "needs_background": "light"
     },
     "output_type": "display_data"
    }
   ],
   "source": [
    "#frequency of each event leading to churn\n",
    "sns.countplot(x='EVENTID',data=train.loc[train['LABEL']==1])\n",
    "sns.set(rc={'figure.figsize':(12,8)})\n",
    "sns.set(font_scale = 0.7)"
   ]
  },
  {
   "cell_type": "code",
   "execution_count": 12,
   "metadata": {},
   "outputs": [
    {
     "name": "stdout",
     "output_type": "stream",
     "text": [
      "         pctLabel\n",
      "EVENTID          \n",
      "95       7.692308\n",
      "16       4.511873\n",
      "13       4.000448\n",
      "15       3.738197\n",
      "87       3.333333\n",
      "...           ...\n",
      "77       0.000000\n",
      "76       0.000000\n",
      "75       0.000000\n",
      "74       0.000000\n",
      "96       0.000000\n",
      "\n",
      "[97 rows x 1 columns]\n",
      "13    357\n",
      "16    342\n",
      "15    289\n",
      "8     240\n",
      "9     235\n",
      "3     127\n",
      "7     119\n",
      "27    112\n",
      "5     109\n",
      "19    106\n",
      "Name: EVENTID, dtype: int64\n"
     ]
    }
   ],
   "source": [
    "#percentage vs raw frequency of number of times each event led to churn \n",
    "xx = train.groupby('EVENTID').agg({'LABEL':['sum','count']})\n",
    "xx.columns = ['sum','count']\n",
    "xx['pctLabel'] = 100*xx['sum']/xx['count']\n",
    "xx.drop(['sum','count'], axis=1, inplace=True)\n",
    "print(xx.sort_values('pctLabel', ascending=False)) \n",
    "print((train.loc[train['LABEL']==1].EVENTID).value_counts().head(10))"
   ]
  },
  {
   "cell_type": "markdown",
   "metadata": {},
   "source": [
    "- EVENTID=13,15,16 have the highest frequency leading to churn. \n",
    "- They also have higher ratio of churn indicating they can be potential predictors. Same applies for the latest preceding event."
   ]
  },
  {
   "cell_type": "code",
   "execution_count": 13,
   "metadata": {},
   "outputs": [],
   "source": [
    "copy = train.copy()\n",
    "copy['USER_FIRST'] = copy.groupby('USERID')['TIMESTAMP'].transform('first')\n",
    "copy['USER_LAST'] = copy.groupby('USERID')['TIMESTAMP'].transform('last')\n",
    "copy['TIME_OPEN'] = copy['USER_LAST'] - copy['USER_FIRST']"
   ]
  },
  {
   "cell_type": "code",
   "execution_count": 14,
   "metadata": {},
   "outputs": [
    {
     "data": {
      "text/html": [
       "<div>\n",
       "<style scoped>\n",
       "    .dataframe tbody tr th:only-of-type {\n",
       "        vertical-align: middle;\n",
       "    }\n",
       "\n",
       "    .dataframe tbody tr th {\n",
       "        vertical-align: top;\n",
       "    }\n",
       "\n",
       "    .dataframe thead th {\n",
       "        text-align: right;\n",
       "    }\n",
       "</style>\n",
       "<table border=\"1\" class=\"dataframe\">\n",
       "  <thead>\n",
       "    <tr style=\"text-align: right;\">\n",
       "      <th></th>\n",
       "      <th>TIME_OPEN</th>\n",
       "    </tr>\n",
       "    <tr>\n",
       "      <th>LABEL</th>\n",
       "      <th></th>\n",
       "    </tr>\n",
       "  </thead>\n",
       "  <tbody>\n",
       "    <tr>\n",
       "      <th>0</th>\n",
       "      <td>1658134</td>\n",
       "    </tr>\n",
       "    <tr>\n",
       "      <th>1</th>\n",
       "      <td>183448</td>\n",
       "    </tr>\n",
       "  </tbody>\n",
       "</table>\n",
       "</div>"
      ],
      "text/plain": [
       "       TIME_OPEN\n",
       "LABEL           \n",
       "0        1658134\n",
       "1         183448"
      ]
     },
     "execution_count": 14,
     "metadata": {},
     "output_type": "execute_result"
    }
   ],
   "source": [
    "#median time since each customer's first interaction leading to each label\n",
    "copy.groupby('LABEL').agg({'TIME_OPEN':'median'})"
   ]
  },
  {
   "cell_type": "markdown",
   "metadata": {},
   "source": [
    "- Significant difference in the median time since a given user's first interaction i.e. **users who churn tend to do it in a much shorter duration**"
   ]
  },
  {
   "cell_type": "code",
   "execution_count": 15,
   "metadata": {},
   "outputs": [
    {
     "data": {
      "text/html": [
       "<div>\n",
       "<style scoped>\n",
       "    .dataframe tbody tr th:only-of-type {\n",
       "        vertical-align: middle;\n",
       "    }\n",
       "\n",
       "    .dataframe tbody tr th {\n",
       "        vertical-align: top;\n",
       "    }\n",
       "\n",
       "    .dataframe thead th {\n",
       "        text-align: right;\n",
       "    }\n",
       "</style>\n",
       "<table border=\"1\" class=\"dataframe\">\n",
       "  <thead>\n",
       "    <tr style=\"text-align: right;\">\n",
       "      <th></th>\n",
       "      <th>INTERACTIONS</th>\n",
       "    </tr>\n",
       "    <tr>\n",
       "      <th>LABEL</th>\n",
       "      <th></th>\n",
       "    </tr>\n",
       "  </thead>\n",
       "  <tbody>\n",
       "    <tr>\n",
       "      <th>0</th>\n",
       "      <td>102</td>\n",
       "    </tr>\n",
       "    <tr>\n",
       "      <th>1</th>\n",
       "      <td>18</td>\n",
       "    </tr>\n",
       "  </tbody>\n",
       "</table>\n",
       "</div>"
      ],
      "text/plain": [
       "       INTERACTIONS\n",
       "LABEL              \n",
       "0               102\n",
       "1                18"
      ]
     },
     "execution_count": 15,
     "metadata": {},
     "output_type": "execute_result"
    }
   ],
   "source": [
    "#median number of interactions leading to each label\n",
    "copy['INTERACTIONS'] = copy.groupby('USERID')['ID'].transform('count')\n",
    "copy.groupby('LABEL').agg({'INTERACTIONS':'median'})"
   ]
  },
  {
   "cell_type": "markdown",
   "metadata": {},
   "source": [
    "Similar deductions as TIME_OPEN for median interactions i.e. **users who churn tend to interact much less**"
   ]
  },
  {
   "cell_type": "code",
   "execution_count": 16,
   "metadata": {},
   "outputs": [
    {
     "data": {
      "text/html": [
       "<div>\n",
       "<style scoped>\n",
       "    .dataframe tbody tr th:only-of-type {\n",
       "        vertical-align: middle;\n",
       "    }\n",
       "\n",
       "    .dataframe tbody tr th {\n",
       "        vertical-align: top;\n",
       "    }\n",
       "\n",
       "    .dataframe thead th {\n",
       "        text-align: right;\n",
       "    }\n",
       "</style>\n",
       "<table border=\"1\" class=\"dataframe\">\n",
       "  <thead>\n",
       "    <tr style=\"text-align: right;\">\n",
       "      <th></th>\n",
       "      <th>MED_DELTA</th>\n",
       "    </tr>\n",
       "    <tr>\n",
       "      <th>LABEL</th>\n",
       "      <th></th>\n",
       "    </tr>\n",
       "  </thead>\n",
       "  <tbody>\n",
       "    <tr>\n",
       "      <th>0</th>\n",
       "      <td>20.0</td>\n",
       "    </tr>\n",
       "    <tr>\n",
       "      <th>1</th>\n",
       "      <td>24.0</td>\n",
       "    </tr>\n",
       "  </tbody>\n",
       "</table>\n",
       "</div>"
      ],
      "text/plain": [
       "       MED_DELTA\n",
       "LABEL           \n",
       "0           20.0\n",
       "1           24.0"
      ]
     },
     "execution_count": 16,
     "metadata": {},
     "output_type": "execute_result"
    }
   ],
   "source": [
    "#median time between interactions leading to each label (mean is significantly higher for label=1, indicating skew)\n",
    "copy['DELTA'] = copy.groupby('USERID')['TIMESTAMP'].diff()\n",
    "copy['MED_DELTA'] = copy.groupby('USERID')['DELTA'].transform('median')\n",
    "copy.groupby('LABEL').agg({'MED_DELTA':'median'})"
   ]
  },
  {
   "cell_type": "markdown",
   "metadata": {},
   "source": [
    "There isn't a significant difference in the median time between interactions, however, there is a large skew in this distribution since there is much more prevelant difference in the respective means."
   ]
  },
  {
   "cell_type": "markdown",
   "metadata": {},
   "source": [
    "### Feature engineering"
   ]
  },
  {
   "cell_type": "code",
   "execution_count": 17,
   "metadata": {},
   "outputs": [],
   "source": [
    "df_train = train.copy()\n",
    "df_test = test.copy()\n",
    "df_train['type'] = 1\n",
    "df_test['type'] = 0"
   ]
  },
  {
   "cell_type": "code",
   "execution_count": 18,
   "metadata": {},
   "outputs": [],
   "source": [
    "df = pd.concat([df_train, df_test])"
   ]
  },
  {
   "cell_type": "code",
   "execution_count": 19,
   "metadata": {},
   "outputs": [],
   "source": [
    "df.reset_index(drop=True, inplace=True)"
   ]
  },
  {
   "cell_type": "markdown",
   "metadata": {},
   "source": [
    "#### Local features (each user)"
   ]
  },
  {
   "cell_type": "code",
   "execution_count": 20,
   "metadata": {},
   "outputs": [],
   "source": [
    "#TIME_OPEN - total time since the user's first interaction was recorded\n",
    "df['USER_FIRST'] = df.groupby('USERID')['TIMESTAMP'].transform('first')\n",
    "df['USER_LAST'] = df.groupby('USERID')['TIMESTAMP'].expanding().max().reset_index(0,drop=True)\n",
    "df['TIME_OPEN'] = df['USER_LAST'] - df['USER_FIRST']"
   ]
  },
  {
   "cell_type": "code",
   "execution_count": 21,
   "metadata": {},
   "outputs": [],
   "source": [
    "#removing intermediate columns for TIME_OPEN\n",
    "df.drop(['USER_FIRST','USER_LAST'], axis=1, inplace=True)"
   ]
  },
  {
   "cell_type": "code",
   "execution_count": 22,
   "metadata": {},
   "outputs": [],
   "source": [
    "#DELTA - time between given user's subsequent interactions\n",
    "#MED_DELTA - median time between given user's subsequent interactions\n",
    "df['DELTA'] = df.groupby('USERID')['TIMESTAMP'].diff()\n",
    "df['MED_DELTA'] = df.groupby('USERID')['DELTA'].transform('median')"
   ]
  },
  {
   "cell_type": "code",
   "execution_count": 23,
   "metadata": {},
   "outputs": [],
   "source": [
    "#INTERACTIONS - total number of interaction events leading upto current observation\n",
    "df['INTERACTIONS'] = df.groupby('USERID')['ID'].expanding().count().reset_index(0,drop=True)"
   ]
  },
  {
   "cell_type": "code",
   "execution_count": 24,
   "metadata": {},
   "outputs": [],
   "source": [
    "#PREV_EVENT - user's previous interaction event id\n",
    "df['PREV_EVENT'] = df.groupby('USERID')['EVENTID'].shift()"
   ]
  },
  {
   "cell_type": "markdown",
   "metadata": {},
   "source": [
    "#### Global features (general trends)"
   ]
  },
  {
   "cell_type": "code",
   "execution_count": 25,
   "metadata": {},
   "outputs": [],
   "source": [
    "#Global features to describe TIME_OPEN's distrbution (not taking mean to avoid multicollinearity with median/std)\n",
    "df['MED_TIME_OPEN'] = df['TIME_OPEN'].expanding().median()\n",
    "df['KURT_TIME_OPEN'] = df['TIME_OPEN'].expanding().kurt()\n",
    "df['SKEW_TIME_OPEN'] = df['TIME_OPEN'].expanding().skew()\n",
    "df['STD_TIME_OPEN'] = df['TIME_OPEN'].expanding().std()"
   ]
  },
  {
   "cell_type": "code",
   "execution_count": 26,
   "metadata": {},
   "outputs": [],
   "source": [
    "#Global features to describe MED_DELTA's distrbution (not taking mean to avoid multicollinearity with median/std)\n",
    "df['MED_MED_DELTA'] = df['MED_DELTA'].expanding().median()\n",
    "df['KURT_MED_DELTA'] = df['MED_DELTA'].expanding().kurt()\n",
    "df['SKEW_MED_DELTA'] = df['MED_DELTA'].expanding().skew()\n",
    "df['STD_MED_DELTA'] = df['MED_DELTA'].expanding().std()"
   ]
  },
  {
   "cell_type": "code",
   "execution_count": 27,
   "metadata": {},
   "outputs": [],
   "source": [
    "#filling missing values: most values missing are due to lack to preceding rows for expanding window calculation. \n",
    "#Hence fill 0 for all missing data and -1 for missing EVENTID \n",
    "df['DELTA'] = df['DELTA'].fillna(0)\n",
    "df['KURT_MED_DELTA'] = df['KURT_MED_DELTA'].fillna(0)\n",
    "df['SKEW_MED_DELTA'] = df['SKEW_MED_DELTA'].fillna(0)\n",
    "df['KURT_TIME_OPEN'] = df['KURT_MED_DELTA'].fillna(0)\n",
    "df['SKEW_TIME_OPEN'] = df['SKEW_MED_DELTA'].fillna(0)\n",
    "df['STD_MED_DELTA'] = df['STD_MED_DELTA'].fillna(0)\n",
    "df['STD_TIME_OPEN'] = df['STD_TIME_OPEN'].fillna(0)\n",
    "df['PREV_EVENT'] = df['PREV_EVENT'].fillna(-1) #category"
   ]
  },
  {
   "cell_type": "code",
   "execution_count": 28,
   "metadata": {},
   "outputs": [
    {
     "data": {
      "text/plain": [
       "ID                    0\n",
       "USERID                0\n",
       "EVENTID               0\n",
       "TIMESTAMP             0\n",
       "LABEL             20000\n",
       "type                  0\n",
       "TIME_OPEN             0\n",
       "DELTA                 0\n",
       "MED_DELTA             0\n",
       "INTERACTIONS          0\n",
       "PREV_EVENT            0\n",
       "MED_TIME_OPEN         0\n",
       "KURT_TIME_OPEN        0\n",
       "SKEW_TIME_OPEN        0\n",
       "STD_TIME_OPEN         0\n",
       "MED_MED_DELTA         0\n",
       "KURT_MED_DELTA        0\n",
       "SKEW_MED_DELTA        0\n",
       "STD_MED_DELTA         0\n",
       "dtype: int64"
      ]
     },
     "execution_count": 28,
     "metadata": {},
     "output_type": "execute_result"
    }
   ],
   "source": [
    "df.isna().sum()"
   ]
  },
  {
   "cell_type": "code",
   "execution_count": 29,
   "metadata": {},
   "outputs": [],
   "source": [
    "df.drop(['ID','USERID','TIMESTAMP'], axis=1, inplace=True)"
   ]
  },
  {
   "cell_type": "code",
   "execution_count": 30,
   "metadata": {},
   "outputs": [],
   "source": [
    "#converting EVENTID to str to treat as a category\n",
    "df['EVENTID'] = df['EVENTID'].astype('str')\n",
    "df['PREV_EVENT'] = df['PREV_EVENT'].astype('str')"
   ]
  },
  {
   "cell_type": "code",
   "execution_count": 31,
   "metadata": {},
   "outputs": [],
   "source": [
    "#dummy encoding\n",
    "df = pd.get_dummies(df)"
   ]
  },
  {
   "cell_type": "code",
   "execution_count": 32,
   "metadata": {
    "scrolled": true
   },
   "outputs": [
    {
     "data": {
      "text/plain": [
       "(411749, 209)"
      ]
     },
     "execution_count": 32,
     "metadata": {},
     "output_type": "execute_result"
    }
   ],
   "source": [
    "df.shape"
   ]
  },
  {
   "cell_type": "code",
   "execution_count": 33,
   "metadata": {},
   "outputs": [
    {
     "name": "stderr",
     "output_type": "stream",
     "text": [
      "/anaconda3/lib/python3.7/site-packages/pandas/core/frame.py:4315: SettingWithCopyWarning: \n",
      "A value is trying to be set on a copy of a slice from a DataFrame\n",
      "\n",
      "See the caveats in the documentation: https://pandas.pydata.org/pandas-docs/stable/user_guide/indexing.html#returning-a-view-versus-a-copy\n",
      "  errors=errors,\n"
     ]
    }
   ],
   "source": [
    "train_df = df[df['type']==1]\n",
    "test_df = df[df['type']==0]\n",
    "train_df.drop(['type'], axis=1, inplace=True)\n",
    "test_df.drop(['type'], axis=1, inplace=True)"
   ]
  },
  {
   "cell_type": "code",
   "execution_count": 34,
   "metadata": {},
   "outputs": [
    {
     "data": {
      "text/plain": [
       "(391749, 208)"
      ]
     },
     "execution_count": 34,
     "metadata": {},
     "output_type": "execute_result"
    }
   ],
   "source": [
    "train_df.shape"
   ]
  },
  {
   "cell_type": "code",
   "execution_count": 35,
   "metadata": {},
   "outputs": [
    {
     "data": {
      "text/plain": [
       "(20000, 208)"
      ]
     },
     "execution_count": 35,
     "metadata": {},
     "output_type": "execute_result"
    }
   ],
   "source": [
    "test_df.shape"
   ]
  },
  {
   "cell_type": "markdown",
   "metadata": {},
   "source": [
    "### Validation setup"
   ]
  },
  {
   "cell_type": "markdown",
   "metadata": {},
   "source": [
    "For validation, we can't split the data randomly because of the sequential nature of data. Rather, I carried out validation by splitting the training set into two parts where the validation set follows sequentially after the training set. A better validation approach will be to use time series cross validation using rolling/expanding windows."
   ]
  },
  {
   "cell_type": "code",
   "execution_count": 36,
   "metadata": {},
   "outputs": [],
   "source": [
    "#90% data training set\n",
    "trainidx = int(0.9*train_df.shape[0])"
   ]
  },
  {
   "cell_type": "code",
   "execution_count": 37,
   "metadata": {},
   "outputs": [],
   "source": [
    "xtrain,ytrain = train_df.drop('LABEL', axis=1).iloc[:trainidx].copy(), train_df['LABEL'].iloc[:trainidx].copy()\n",
    "xval,yval = train_df.drop('LABEL', axis=1).iloc[trainidx:].copy(), train_df['LABEL'].iloc[trainidx:].copy()"
   ]
  },
  {
   "cell_type": "markdown",
   "metadata": {},
   "source": [
    " "
   ]
  },
  {
   "cell_type": "markdown",
   "metadata": {},
   "source": [
    "### Model development"
   ]
  },
  {
   "cell_type": "code",
   "execution_count": 38,
   "metadata": {},
   "outputs": [],
   "source": [
    "#from sklearn.linear_model import LogisticRegression\n",
    "#from sklearn.ensemble import RandomForestClassifier\n",
    "from sklearn.linear_model import RidgeClassifier\n",
    "from sklearn.metrics import classification_report"
   ]
  },
  {
   "cell_type": "code",
   "execution_count": 39,
   "metadata": {},
   "outputs": [
    {
     "name": "stderr",
     "output_type": "stream",
     "text": [
      "/anaconda3/lib/python3.7/site-packages/sklearn/linear_model/ridge.py:125: LinAlgWarning: scipy.linalg.solve\n",
      "Ill-conditioned matrix detected. Result is not guaranteed to be accurate.\n",
      "Reciprocal condition number4.901704e-18\n",
      "  overwrite_a=True).T\n"
     ]
    }
   ],
   "source": [
    "clf = RidgeClassifier(random_state=0, class_weight='balanced').fit(xtrain, ytrain)\n",
    "#clf = LogisticRegression(random_state=0, class_weight='balanced').fit(xtrain, ytrain)\n",
    "#clf_rf = RandomForestClassifier(max_depth=None, random_state=0, class_weight='balanced').fit(xtrain, ytrain)"
   ]
  },
  {
   "cell_type": "markdown",
   "metadata": {},
   "source": [
    "* \"class_weight='balanced'\" indicated that the labels are imbalanced and the model uses the values of y to automatically adjust weights inversely proportional to class frequencies in the input data."
   ]
  },
  {
   "cell_type": "code",
   "execution_count": 40,
   "metadata": {},
   "outputs": [
    {
     "data": {
      "text/plain": [
       "0.689662312025277"
      ]
     },
     "execution_count": 40,
     "metadata": {},
     "output_type": "execute_result"
    }
   ],
   "source": [
    "clf.score(xtrain,ytrain)"
   ]
  },
  {
   "cell_type": "code",
   "execution_count": 41,
   "metadata": {},
   "outputs": [
    {
     "data": {
      "text/plain": [
       "0.7558391831525207"
      ]
     },
     "execution_count": 41,
     "metadata": {},
     "output_type": "execute_result"
    }
   ],
   "source": [
    "clf.score(xval,yval)"
   ]
  },
  {
   "cell_type": "markdown",
   "metadata": {},
   "source": [
    "### Model evaluation"
   ]
  },
  {
   "cell_type": "markdown",
   "metadata": {},
   "source": [
    "General classifier score is 75.5% accuracy on the validation set. However, the data is imbalanced and so its important to identify how the model performs in terms of precision/recall of the respective labels."
   ]
  },
  {
   "cell_type": "code",
   "execution_count": 42,
   "metadata": {},
   "outputs": [],
   "source": [
    "feats = pd.DataFrame()\n",
    "feats['column'] = xtrain.columns\n",
    "feats['coef'] = clf.coef_[0]"
   ]
  },
  {
   "cell_type": "code",
   "execution_count": 43,
   "metadata": {},
   "outputs": [
    {
     "data": {
      "text/html": [
       "<div>\n",
       "<style scoped>\n",
       "    .dataframe tbody tr th:only-of-type {\n",
       "        vertical-align: middle;\n",
       "    }\n",
       "\n",
       "    .dataframe tbody tr th {\n",
       "        vertical-align: top;\n",
       "    }\n",
       "\n",
       "    .dataframe thead th {\n",
       "        text-align: right;\n",
       "    }\n",
       "</style>\n",
       "<table border=\"1\" class=\"dataframe\">\n",
       "  <thead>\n",
       "    <tr style=\"text-align: right;\">\n",
       "      <th></th>\n",
       "      <th>column</th>\n",
       "      <th>coef</th>\n",
       "    </tr>\n",
       "  </thead>\n",
       "  <tbody>\n",
       "    <tr>\n",
       "      <th>20</th>\n",
       "      <td>EVENTID_16</td>\n",
       "      <td>0.680220</td>\n",
       "    </tr>\n",
       "    <tr>\n",
       "      <th>40</th>\n",
       "      <td>EVENTID_34</td>\n",
       "      <td>0.621042</td>\n",
       "    </tr>\n",
       "    <tr>\n",
       "      <th>78</th>\n",
       "      <td>EVENTID_69</td>\n",
       "      <td>0.613749</td>\n",
       "    </tr>\n",
       "    <tr>\n",
       "      <th>92</th>\n",
       "      <td>EVENTID_81</td>\n",
       "      <td>0.591094</td>\n",
       "    </tr>\n",
       "    <tr>\n",
       "      <th>41</th>\n",
       "      <td>EVENTID_35</td>\n",
       "      <td>0.559243</td>\n",
       "    </tr>\n",
       "    <tr>\n",
       "      <th>...</th>\n",
       "      <td>...</td>\n",
       "      <td>...</td>\n",
       "    </tr>\n",
       "    <tr>\n",
       "      <th>88</th>\n",
       "      <td>EVENTID_78</td>\n",
       "      <td>-0.457011</td>\n",
       "    </tr>\n",
       "    <tr>\n",
       "      <th>175</th>\n",
       "      <td>PREV_EVENT_68.0</td>\n",
       "      <td>-0.508791</td>\n",
       "    </tr>\n",
       "    <tr>\n",
       "      <th>85</th>\n",
       "      <td>EVENTID_75</td>\n",
       "      <td>-0.563459</td>\n",
       "    </tr>\n",
       "    <tr>\n",
       "      <th>61</th>\n",
       "      <td>EVENTID_53</td>\n",
       "      <td>-0.640978</td>\n",
       "    </tr>\n",
       "    <tr>\n",
       "      <th>109</th>\n",
       "      <td>PREV_EVENT_-1.0</td>\n",
       "      <td>-1.031530</td>\n",
       "    </tr>\n",
       "  </tbody>\n",
       "</table>\n",
       "<p>207 rows × 2 columns</p>\n",
       "</div>"
      ],
      "text/plain": [
       "              column      coef\n",
       "20        EVENTID_16  0.680220\n",
       "40        EVENTID_34  0.621042\n",
       "78        EVENTID_69  0.613749\n",
       "92        EVENTID_81  0.591094\n",
       "41        EVENTID_35  0.559243\n",
       "..               ...       ...\n",
       "88        EVENTID_78 -0.457011\n",
       "175  PREV_EVENT_68.0 -0.508791\n",
       "85        EVENTID_75 -0.563459\n",
       "61        EVENTID_53 -0.640978\n",
       "109  PREV_EVENT_-1.0 -1.031530\n",
       "\n",
       "[207 rows x 2 columns]"
      ]
     },
     "execution_count": 43,
     "metadata": {},
     "output_type": "execute_result"
    }
   ],
   "source": [
    "feats.sort_values('coef',ascending=False)"
   ]
  },
  {
   "cell_type": "code",
   "execution_count": 44,
   "metadata": {
    "scrolled": true
   },
   "outputs": [
    {
     "name": "stdout",
     "output_type": "stream",
     "text": [
      "              precision    recall  f1-score   support\n",
      "\n",
      "         0.0       1.00      0.76      0.86     38793\n",
      "         1.0       0.03      0.68      0.05       382\n",
      "\n",
      "   micro avg       0.76      0.76      0.76     39175\n",
      "   macro avg       0.51      0.72      0.46     39175\n",
      "weighted avg       0.99      0.76      0.85     39175\n",
      "\n"
     ]
    }
   ],
   "source": [
    "# ridge clf model report\n",
    "print(classification_report(yval, clf.predict(xval)))"
   ]
  },
  {
   "cell_type": "markdown",
   "metadata": {},
   "source": [
    "A recall of 0.68 inclidates that 68% of the churn events were classified correctly. This is a significant improvement over the naive implementation which predicts 0 for all users (thus giving 99% overall accuracy but 0 recall on labl=1)"
   ]
  },
  {
   "cell_type": "code",
   "execution_count": 45,
   "metadata": {},
   "outputs": [
    {
     "name": "stdout",
     "output_type": "stream",
     "text": [
      "              precision    recall  f1-score   support\n",
      "\n",
      "         0.0       0.99      1.00      1.00     38793\n",
      "         1.0       0.00      0.00      0.00       382\n",
      "\n",
      "   micro avg       0.99      0.99      0.99     39175\n",
      "   macro avg       0.50      0.50      0.50     39175\n",
      "weighted avg       0.98      0.99      0.99     39175\n",
      "\n"
     ]
    },
    {
     "name": "stderr",
     "output_type": "stream",
     "text": [
      "/anaconda3/lib/python3.7/site-packages/sklearn/metrics/classification.py:1143: UndefinedMetricWarning: Precision and F-score are ill-defined and being set to 0.0 in labels with no predicted samples.\n",
      "  'precision', 'predicted', average, warn_for)\n",
      "/anaconda3/lib/python3.7/site-packages/sklearn/metrics/classification.py:1143: UndefinedMetricWarning: Precision and F-score are ill-defined and being set to 0.0 in labels with no predicted samples.\n",
      "  'precision', 'predicted', average, warn_for)\n",
      "/anaconda3/lib/python3.7/site-packages/sklearn/metrics/classification.py:1143: UndefinedMetricWarning: Precision and F-score are ill-defined and being set to 0.0 in labels with no predicted samples.\n",
      "  'precision', 'predicted', average, warn_for)\n"
     ]
    }
   ],
   "source": [
    "# naive method report - predict all outcomes as 0\n",
    "print(classification_report(yval, np.zeros(39175)))"
   ]
  },
  {
   "cell_type": "markdown",
   "metadata": {},
   "source": [
    "Thus with a micro-avg F1 score of 0.75 (weighted for balance), ridge classifier performs significantly better than the naive approach to identify churn events. However, it has low precision and thus further model complexity can restrict positive predictions to higher contraints."
   ]
  },
  {
   "cell_type": "markdown",
   "metadata": {},
   "source": [
    " "
   ]
  },
  {
   "cell_type": "markdown",
   "metadata": {},
   "source": [
    "I wanted to also try random forest classifier with grid search in order to optimize the rf model and reduce the heavy overfitting occuring with default hyperparams. However, my local device takes too long to compute the best set of params."
   ]
  },
  {
   "cell_type": "code",
   "execution_count": 46,
   "metadata": {},
   "outputs": [],
   "source": [
    "# from sklearn.model_selection import GridSearchCV\n",
    "# from sklearn.ensemble import RandomForestClassifier\n",
    "\n",
    "# rf = RandomForestClassifier(max_features='auto', oob_score=True, random_state=1, n_jobs=-1)\n",
    "\n",
    "# param_grid = { \"criterion\" : [\"gini\", \"entropy\"], \"min_samples_leaf\" : [1, 5, 10], \"min_samples_split\" : [2, 4, 10, 12, 16], \"n_estimators\": [50, 100, 400, 700, 1000]} \n",
    "# gs = GridSearchCV(estimator=rf, param_grid=param_grid, scoring= \"precision\", cv=3, n_jobs=-1) \n",
    "# gs = gs.fit(xval, yval)"
   ]
  },
  {
   "cell_type": "markdown",
   "metadata": {},
   "source": [
    "### Prediction"
   ]
  },
  {
   "cell_type": "code",
   "execution_count": 47,
   "metadata": {},
   "outputs": [],
   "source": [
    "pred = clf.predict(test_df.drop(['LABEL'],axis=1))"
   ]
  },
  {
   "cell_type": "code",
   "execution_count": 48,
   "metadata": {},
   "outputs": [],
   "source": [
    "test['LABEL'] = pred"
   ]
  },
  {
   "cell_type": "code",
   "execution_count": 49,
   "metadata": {},
   "outputs": [],
   "source": [
    "test.to_csv('final_submission', index=False)"
   ]
  }
 ],
 "metadata": {
  "kernelspec": {
   "display_name": "Python 3",
   "language": "python",
   "name": "python3"
  },
  "language_info": {
   "codemirror_mode": {
    "name": "ipython",
    "version": 3
   },
   "file_extension": ".py",
   "mimetype": "text/x-python",
   "name": "python",
   "nbconvert_exporter": "python",
   "pygments_lexer": "ipython3",
   "version": "3.7.1"
  }
 },
 "nbformat": 4,
 "nbformat_minor": 2
}
